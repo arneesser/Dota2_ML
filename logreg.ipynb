{
 "metadata": {
  "language_info": {
   "codemirror_mode": {
    "name": "ipython",
    "version": 3
   },
   "file_extension": ".py",
   "mimetype": "text/x-python",
   "name": "python",
   "nbconvert_exporter": "python",
   "pygments_lexer": "ipython3",
   "version": "3.8.3"
  },
  "orig_nbformat": 4,
  "kernelspec": {
   "name": "python3",
   "display_name": "Python 3.8.3 64-bit"
  },
  "interpreter": {
   "hash": "27260b0f1bce3162bd28fb0910d8c4d20feb791433d59faac6d3902db966498d"
  }
 },
 "nbformat": 4,
 "nbformat_minor": 2,
 "cells": [
  {
   "cell_type": "code",
   "execution_count": 1,
   "source": [
    "import pandas as pd\r\n",
    "from time import time\r\n",
    "df = pd.read_csv('data.csv')"
   ],
   "outputs": [],
   "metadata": {}
  },
  {
   "cell_type": "code",
   "execution_count": 2,
   "source": [
    "df.head()"
   ],
   "outputs": [
    {
     "output_type": "execute_result",
     "data": {
      "text/plain": [
       "   match_id  radiant_adv_nw  radiant_adv_xp  radiant_adv_lh  radiant_win\n",
       "0         0             707            1238             -39         True\n",
       "1         1            -193           -1224               9        False\n",
       "2         2            1035            1470              36        False\n",
       "3         3            2464            2822              -7        False\n",
       "4         4            6967            5261             150         True"
      ],
      "text/html": [
       "<div>\n",
       "<style scoped>\n",
       "    .dataframe tbody tr th:only-of-type {\n",
       "        vertical-align: middle;\n",
       "    }\n",
       "\n",
       "    .dataframe tbody tr th {\n",
       "        vertical-align: top;\n",
       "    }\n",
       "\n",
       "    .dataframe thead th {\n",
       "        text-align: right;\n",
       "    }\n",
       "</style>\n",
       "<table border=\"1\" class=\"dataframe\">\n",
       "  <thead>\n",
       "    <tr style=\"text-align: right;\">\n",
       "      <th></th>\n",
       "      <th>match_id</th>\n",
       "      <th>radiant_adv_nw</th>\n",
       "      <th>radiant_adv_xp</th>\n",
       "      <th>radiant_adv_lh</th>\n",
       "      <th>radiant_win</th>\n",
       "    </tr>\n",
       "  </thead>\n",
       "  <tbody>\n",
       "    <tr>\n",
       "      <th>0</th>\n",
       "      <td>0</td>\n",
       "      <td>707</td>\n",
       "      <td>1238</td>\n",
       "      <td>-39</td>\n",
       "      <td>True</td>\n",
       "    </tr>\n",
       "    <tr>\n",
       "      <th>1</th>\n",
       "      <td>1</td>\n",
       "      <td>-193</td>\n",
       "      <td>-1224</td>\n",
       "      <td>9</td>\n",
       "      <td>False</td>\n",
       "    </tr>\n",
       "    <tr>\n",
       "      <th>2</th>\n",
       "      <td>2</td>\n",
       "      <td>1035</td>\n",
       "      <td>1470</td>\n",
       "      <td>36</td>\n",
       "      <td>False</td>\n",
       "    </tr>\n",
       "    <tr>\n",
       "      <th>3</th>\n",
       "      <td>3</td>\n",
       "      <td>2464</td>\n",
       "      <td>2822</td>\n",
       "      <td>-7</td>\n",
       "      <td>False</td>\n",
       "    </tr>\n",
       "    <tr>\n",
       "      <th>4</th>\n",
       "      <td>4</td>\n",
       "      <td>6967</td>\n",
       "      <td>5261</td>\n",
       "      <td>150</td>\n",
       "      <td>True</td>\n",
       "    </tr>\n",
       "  </tbody>\n",
       "</table>\n",
       "</div>"
      ]
     },
     "metadata": {},
     "execution_count": 2
    }
   ],
   "metadata": {}
  },
  {
   "cell_type": "code",
   "execution_count": 3,
   "source": [
    "X = df.iloc[:,1:4].values\r\n",
    "y = df['radiant_win'].astype(int).values\r\n",
    "\r\n",
    "# standardize scales\r\n",
    "from sklearn.preprocessing import StandardScaler\r\n",
    "scaler = StandardScaler()\r\n",
    "\r\n",
    "X = scaler.fit_transform(X)"
   ],
   "outputs": [],
   "metadata": {}
  },
  {
   "cell_type": "code",
   "execution_count": 4,
   "source": [
    "df1 = pd.DataFrame(X, columns=[['radiant_adv_nw', 'radiant_adv_xp', 'radiant_adv_lh']])\r\n",
    "df1.head()"
   ],
   "outputs": [
    {
     "output_type": "execute_result",
     "data": {
      "text/plain": [
       "  radiant_adv_nw radiant_adv_xp radiant_adv_lh\n",
       "0       0.110828       0.276997      -0.770115\n",
       "1      -0.090740      -0.304696       0.164050\n",
       "2       0.184288       0.331811       0.689518\n",
       "3       0.504334       0.651246      -0.147339\n",
       "4       1.512848       1.227505       2.908160"
      ],
      "text/html": [
       "<div>\n",
       "<style scoped>\n",
       "    .dataframe tbody tr th:only-of-type {\n",
       "        vertical-align: middle;\n",
       "    }\n",
       "\n",
       "    .dataframe tbody tr th {\n",
       "        vertical-align: top;\n",
       "    }\n",
       "\n",
       "    .dataframe thead tr th {\n",
       "        text-align: left;\n",
       "    }\n",
       "</style>\n",
       "<table border=\"1\" class=\"dataframe\">\n",
       "  <thead>\n",
       "    <tr>\n",
       "      <th></th>\n",
       "      <th>radiant_adv_nw</th>\n",
       "      <th>radiant_adv_xp</th>\n",
       "      <th>radiant_adv_lh</th>\n",
       "    </tr>\n",
       "  </thead>\n",
       "  <tbody>\n",
       "    <tr>\n",
       "      <th>0</th>\n",
       "      <td>0.110828</td>\n",
       "      <td>0.276997</td>\n",
       "      <td>-0.770115</td>\n",
       "    </tr>\n",
       "    <tr>\n",
       "      <th>1</th>\n",
       "      <td>-0.090740</td>\n",
       "      <td>-0.304696</td>\n",
       "      <td>0.164050</td>\n",
       "    </tr>\n",
       "    <tr>\n",
       "      <th>2</th>\n",
       "      <td>0.184288</td>\n",
       "      <td>0.331811</td>\n",
       "      <td>0.689518</td>\n",
       "    </tr>\n",
       "    <tr>\n",
       "      <th>3</th>\n",
       "      <td>0.504334</td>\n",
       "      <td>0.651246</td>\n",
       "      <td>-0.147339</td>\n",
       "    </tr>\n",
       "    <tr>\n",
       "      <th>4</th>\n",
       "      <td>1.512848</td>\n",
       "      <td>1.227505</td>\n",
       "      <td>2.908160</td>\n",
       "    </tr>\n",
       "  </tbody>\n",
       "</table>\n",
       "</div>"
      ]
     },
     "metadata": {},
     "execution_count": 4
    }
   ],
   "metadata": {}
  },
  {
   "cell_type": "code",
   "execution_count": 5,
   "source": [
    "from sklearn.model_selection import train_test_split\r\n",
    "\r\n",
    "X_train, X_test, y_train, y_test = train_test_split(X, y, test_size = 0.3)"
   ],
   "outputs": [],
   "metadata": {}
  },
  {
   "cell_type": "code",
   "execution_count": 6,
   "source": [
    "from sklearn.linear_model import LogisticRegression\r\n",
    "t0 = time()\r\n",
    "clf = LogisticRegression(random_state=0).fit(X_train,y_train)\r\n",
    "print(f'training time: {round(time() - t0, 3)} s')"
   ],
   "outputs": [
    {
     "output_type": "stream",
     "name": "stdout",
     "text": [
      "training time: 0.041 s\n"
     ]
    }
   ],
   "metadata": {}
  },
  {
   "cell_type": "code",
   "execution_count": 7,
   "source": [
    "from sklearn.metrics import classification_report, confusion_matrix, balanced_accuracy_score\r\n",
    "\r\n",
    "y_pred = clf.predict(X_test)\r\n",
    "print(balanced_accuracy_score(y_test, y_pred))\r\n",
    "matrix = confusion_matrix(y_test, y_pred)\r\n",
    "print(classification_report(y_test,y_pred))\r\n",
    "print(matrix)"
   ],
   "outputs": [
    {
     "output_type": "stream",
     "name": "stdout",
     "text": [
      "0.6892159180297426\n",
      "              precision    recall  f1-score   support\n",
      "\n",
      "           0       0.69      0.66      0.67      7043\n",
      "           1       0.69      0.72      0.71      7535\n",
      "\n",
      "    accuracy                           0.69     14578\n",
      "   macro avg       0.69      0.69      0.69     14578\n",
      "weighted avg       0.69      0.69      0.69     14578\n",
      "\n",
      "[[4645 2398]\n",
      " [2118 5417]]\n"
     ]
    }
   ],
   "metadata": {}
  },
  {
   "cell_type": "code",
   "execution_count": 10,
   "source": [
    "from sklearn.metrics import plot_confusion_matrix\r\n",
    "\r\n",
    "plot_confusion_matrix(clf, X_test, y_test, cmap='coolwarm') "
   ],
   "outputs": [
    {
     "output_type": "execute_result",
     "data": {
      "text/plain": [
       "<sklearn.metrics._plot.confusion_matrix.ConfusionMatrixDisplay at 0x20982477d60>"
      ]
     },
     "metadata": {},
     "execution_count": 10
    },
    {
     "output_type": "display_data",
     "data": {
      "text/plain": [
       "<Figure size 432x288 with 2 Axes>"
      ],
      "image/png": "[encoded data removed]"
     },
     "metadata": {
      "needs_background": "light"
     }
    }
   ],
   "metadata": {}
  },
  {
   "cell_type": "code",
   "execution_count": 11,
   "source": [
    "from matplotlib import pyplot\r\n",
    "# get importance\r\n",
    "importance = clf.coef_[0]\r\n",
    "# summarize feature importance\r\n",
    "for i,v in enumerate(importance):\r\n",
    "\tprint('Feature: %0d, Score: %.5f' % (i,v))\r\n",
    "# plot feature importance\r\n",
    "pyplot.bar([x for x in range(len(importance))], importance)\r\n",
    "pyplot.show()"
   ],
   "outputs": [
    {
     "output_type": "stream",
     "name": "stdout",
     "text": [
      "Feature: 0, Score: 0.81808\n",
      "Feature: 1, Score: 0.50515\n",
      "Feature: 2, Score: -0.09937\n"
     ]
    },
    {
     "output_type": "display_data",
     "data": {
      "text/plain": [
       "<Figure size 432x288 with 1 Axes>"
      ],
      "image/png": "[encoded data removed]"
     },
     "metadata": {
      "needs_background": "light"
     }
    }
   ],
   "metadata": {}
  },
  {
   "cell_type": "code",
   "execution_count": null,
   "source": [],
   "outputs": [],
   "metadata": {}
  }
 ]
}