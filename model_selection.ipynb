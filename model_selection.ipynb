{
 "metadata": {
  "language_info": {
   "codemirror_mode": {
    "name": "ipython",
    "version": 3
   },
   "file_extension": ".py",
   "mimetype": "text/x-python",
   "name": "python",
   "nbconvert_exporter": "python",
   "pygments_lexer": "ipython3",
   "version": "3.8.3"
  },
  "orig_nbformat": 4,
  "kernelspec": {
   "name": "python3",
   "display_name": "Python 3.8.3 64-bit"
  },
  "interpreter": {
   "hash": "27260b0f1bce3162bd28fb0910d8c4d20feb791433d59faac6d3902db966498d"
  }
 },
 "nbformat": 4,
 "nbformat_minor": 2,
 "cells": [
  {
   "cell_type": "code",
   "execution_count": 2,
   "metadata": {},
   "outputs": [],
   "source": [
    "import pandas as pd\n",
    "\n",
    "df = pd.read_csv('data.csv')"
   ]
  },
  {
   "cell_type": "code",
   "execution_count": 3,
   "metadata": {},
   "outputs": [
    {
     "output_type": "execute_result",
     "data": {
      "text/plain": [
       "   match_id  radiant_adv_nw  radiant_adv_xp  radiant_adv_lh  radiant_win\n",
       "0         0             707            1238             -39         True\n",
       "1         1            -193           -1224               9        False\n",
       "2         2            1035            1470              36        False\n",
       "3         3            2464            2822              -7        False\n",
       "4         4            6967            5261             150         True"
      ],
      "text/html": "<div>\n<style scoped>\n    .dataframe tbody tr th:only-of-type {\n        vertical-align: middle;\n    }\n\n    .dataframe tbody tr th {\n        vertical-align: top;\n    }\n\n    .dataframe thead th {\n        text-align: right;\n    }\n</style>\n<table border=\"1\" class=\"dataframe\">\n  <thead>\n    <tr style=\"text-align: right;\">\n      <th></th>\n      <th>match_id</th>\n      <th>radiant_adv_nw</th>\n      <th>radiant_adv_xp</th>\n      <th>radiant_adv_lh</th>\n      <th>radiant_win</th>\n    </tr>\n  </thead>\n  <tbody>\n    <tr>\n      <th>0</th>\n      <td>0</td>\n      <td>707</td>\n      <td>1238</td>\n      <td>-39</td>\n      <td>True</td>\n    </tr>\n    <tr>\n      <th>1</th>\n      <td>1</td>\n      <td>-193</td>\n      <td>-1224</td>\n      <td>9</td>\n      <td>False</td>\n    </tr>\n    <tr>\n      <th>2</th>\n      <td>2</td>\n      <td>1035</td>\n      <td>1470</td>\n      <td>36</td>\n      <td>False</td>\n    </tr>\n    <tr>\n      <th>3</th>\n      <td>3</td>\n      <td>2464</td>\n      <td>2822</td>\n      <td>-7</td>\n      <td>False</td>\n    </tr>\n    <tr>\n      <th>4</th>\n      <td>4</td>\n      <td>6967</td>\n      <td>5261</td>\n      <td>150</td>\n      <td>True</td>\n    </tr>\n  </tbody>\n</table>\n</div>"
     },
     "metadata": {},
     "execution_count": 3
    }
   ],
   "source": [
    "df.head()"
   ]
  },
  {
   "source": [
    "### Preparing the data"
   ],
   "cell_type": "markdown",
   "metadata": {}
  },
  {
   "cell_type": "code",
   "execution_count": 4,
   "metadata": {},
   "outputs": [],
   "source": [
    "X = df.iloc[:,1:4] # Use radiant advantage of networth, last hits and xp as features\n",
    "y = df['radiant_win'].astype(int).values\n",
    "\n",
    "# Normalize the scales\n",
    "from sklearn.preprocessing import StandardScaler\n",
    "\n",
    "sc = StandardScaler()\n",
    "\n",
    "X = sc.fit_transform(X)"
   ]
  },
  {
   "cell_type": "code",
   "execution_count": 5,
   "metadata": {},
   "outputs": [],
   "source": [
    "from sklearn.model_selection import train_test_split# implementing train-test-split\n",
    "\n",
    "X_train, X_test, y_train, y_test = train_test_split(X, y, test_size=0.3, random_state=21)"
   ]
  },
  {
   "source": [
    "### Creating models\n",
    "We use several models and then we will select the best model"
   ],
   "cell_type": "markdown",
   "metadata": {}
  },
  {
   "cell_type": "code",
   "execution_count": 9,
   "metadata": {},
   "outputs": [],
   "source": [
    "from sklearn.svm import SVC\n",
    "from sklearn.ensemble import RandomForestClassifier\n",
    "from sklearn.linear_model import LogisticRegression\n",
    "from sklearn.metrics import accuracy_score "
   ]
  },
  {
   "cell_type": "code",
   "execution_count": 7,
   "metadata": {},
   "outputs": [],
   "source": [
    "key = ['SVC', 'RandomForestClassifier', 'LogisticRegression']\n",
    "value = [SVC(kernel='rbf'), RandomForestClassifier(), LogisticRegression()]\n",
    "\n",
    "models = dict(zip(key, value))"
   ]
  },
  {
   "cell_type": "code",
   "execution_count": 8,
   "metadata": {},
   "outputs": [
    {
     "output_type": "execute_result",
     "data": {
      "text/plain": [
       "{'SVC': SVC(),\n",
       " 'RandomForestClassifier': RandomForestClassifier(),\n",
       " 'LogisticRegression': LogisticRegression()}"
      ]
     },
     "metadata": {},
     "execution_count": 8
    }
   ],
   "source": [
    "models "
   ]
  },
  {
   "cell_type": "code",
   "execution_count": 12,
   "metadata": {},
   "outputs": [
    {
     "output_type": "stream",
     "name": "stdout",
     "text": [
      "SVC: \n",
      " \n",
      "Accuracy score: 0.6915214707092879\n",
      "\n",
      "\n",
      "RandomForestClassifier: \n",
      " \n",
      "Accuracy score: 0.6688160241459734\n",
      "\n",
      "\n",
      "LogisticRegression: \n",
      " \n",
      "Accuracy score: 0.6948141034435451\n",
      "\n",
      "\n"
     ]
    }
   ],
   "source": [
    "for key, value in models.items():\n",
    "    value.fit(X_train,y_train)\n",
    "    train_pred = value.predict(X_train)\n",
    "    test_pred = value.predict(X_test)\n",
    "    score = accuracy_score(y_test, test_pred)\n",
    "    print(f\"{key}: \\n \")\n",
    "    print(f\"Accuracy score: {score}\")\n",
    "    print('\\n')"
   ]
  },
  {
   "source": [
    "From the results of the accuracy score, we see that logistic regression is performing best. "
   ],
   "cell_type": "markdown",
   "metadata": {}
  },
  {
   "cell_type": "code",
   "execution_count": null,
   "metadata": {},
   "outputs": [],
   "source": []
  }
 ]
}