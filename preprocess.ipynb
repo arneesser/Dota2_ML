{
 "metadata": {
  "language_info": {
   "codemirror_mode": {
    "name": "ipython",
    "version": 3
   },
   "file_extension": ".py",
   "mimetype": "text/x-python",
   "name": "python",
   "nbconvert_exporter": "python",
   "pygments_lexer": "ipython3",
   "version": "3.8.3"
  },
  "orig_nbformat": 4,
  "kernelspec": {
   "name": "python3",
   "display_name": "Python 3.8.3 64-bit"
  },
  "interpreter": {
   "hash": "6a6a4ede39bc8263198112caf5c804574c06058243269af1c0fea9bdc54ad9fc"
  }
 },
 "nbformat": 4,
 "nbformat_minor": 2,
 "cells": [
  {
   "cell_type": "code",
   "execution_count": 1,
   "metadata": {},
   "outputs": [],
   "source": [
    "import pandas as pd\n",
    "root = 'Dota_ML'\n",
    "df_match = pd.read_csv('match.csv')\n",
    "df_player_time = pd.read_csv('player_time.csv')\n",
    "# link to datasets: https://www.kaggle.com/devinanzelmo/dota-2-matches"
   ]
  },
  {
   "source": [
    "Research question: Can we accurately predict the outcome of dota matches based off of team networth, xp gain, and lasthits alone?"
   ],
   "cell_type": "markdown",
   "metadata": {}
  },
  {
   "cell_type": "code",
   "execution_count": 2,
   "metadata": {},
   "outputs": [
    {
     "output_type": "execute_result",
     "data": {
      "text/plain": [
       "   match_id  start_time  duration  tower_status_radiant  tower_status_dire  \\\n",
       "0         0  1446750112      2375                  1982                  4   \n",
       "1         1  1446753078      2582                     0               1846   \n",
       "2         2  1446764586      2716                   256               1972   \n",
       "3         3  1446765723      3085                     4               1924   \n",
       "4         4  1446796385      1887                  2047                  0   \n",
       "\n",
       "   barracks_status_dire  barracks_status_radiant  first_blood_time  game_mode  \\\n",
       "0                     3                       63                 1         22   \n",
       "1                    63                        0               221         22   \n",
       "2                    63                       48               190         22   \n",
       "3                    51                        3                40         22   \n",
       "4                     0                       63                58         22   \n",
       "\n",
       "   radiant_win  negative_votes  positive_votes  cluster  \n",
       "0         True               0               1      155  \n",
       "1        False               0               2      154  \n",
       "2        False               0               0      132  \n",
       "3        False               0               0      191  \n",
       "4         True               0               0      156  "
      ],
      "text/html": "<div>\n<style scoped>\n    .dataframe tbody tr th:only-of-type {\n        vertical-align: middle;\n    }\n\n    .dataframe tbody tr th {\n        vertical-align: top;\n    }\n\n    .dataframe thead th {\n        text-align: right;\n    }\n</style>\n<table border=\"1\" class=\"dataframe\">\n  <thead>\n    <tr style=\"text-align: right;\">\n      <th></th>\n      <th>match_id</th>\n      <th>start_time</th>\n      <th>duration</th>\n      <th>tower_status_radiant</th>\n      <th>tower_status_dire</th>\n      <th>barracks_status_dire</th>\n      <th>barracks_status_radiant</th>\n      <th>first_blood_time</th>\n      <th>game_mode</th>\n      <th>radiant_win</th>\n      <th>negative_votes</th>\n      <th>positive_votes</th>\n      <th>cluster</th>\n    </tr>\n  </thead>\n  <tbody>\n    <tr>\n      <th>0</th>\n      <td>0</td>\n      <td>1446750112</td>\n      <td>2375</td>\n      <td>1982</td>\n      <td>4</td>\n      <td>3</td>\n      <td>63</td>\n      <td>1</td>\n      <td>22</td>\n      <td>True</td>\n      <td>0</td>\n      <td>1</td>\n      <td>155</td>\n    </tr>\n    <tr>\n      <th>1</th>\n      <td>1</td>\n      <td>1446753078</td>\n      <td>2582</td>\n      <td>0</td>\n      <td>1846</td>\n      <td>63</td>\n      <td>0</td>\n      <td>221</td>\n      <td>22</td>\n      <td>False</td>\n      <td>0</td>\n      <td>2</td>\n      <td>154</td>\n    </tr>\n    <tr>\n      <th>2</th>\n      <td>2</td>\n      <td>1446764586</td>\n      <td>2716</td>\n      <td>256</td>\n      <td>1972</td>\n      <td>63</td>\n      <td>48</td>\n      <td>190</td>\n      <td>22</td>\n      <td>False</td>\n      <td>0</td>\n      <td>0</td>\n      <td>132</td>\n    </tr>\n    <tr>\n      <th>3</th>\n      <td>3</td>\n      <td>1446765723</td>\n      <td>3085</td>\n      <td>4</td>\n      <td>1924</td>\n      <td>51</td>\n      <td>3</td>\n      <td>40</td>\n      <td>22</td>\n      <td>False</td>\n      <td>0</td>\n      <td>0</td>\n      <td>191</td>\n    </tr>\n    <tr>\n      <th>4</th>\n      <td>4</td>\n      <td>1446796385</td>\n      <td>1887</td>\n      <td>2047</td>\n      <td>0</td>\n      <td>0</td>\n      <td>63</td>\n      <td>58</td>\n      <td>22</td>\n      <td>True</td>\n      <td>0</td>\n      <td>0</td>\n      <td>156</td>\n    </tr>\n  </tbody>\n</table>\n</div>"
     },
     "metadata": {},
     "execution_count": 2
    }
   ],
   "source": [
    "df_match.head()"
   ]
  },
  {
   "cell_type": "code",
   "execution_count": 3,
   "metadata": {},
   "outputs": [
    {
     "output_type": "execute_result",
     "data": {
      "text/plain": [
       "Index(['match_id', 'start_time', 'duration', 'tower_status_radiant',\n",
       "       'tower_status_dire', 'barracks_status_dire', 'barracks_status_radiant',\n",
       "       'first_blood_time', 'game_mode', 'radiant_win', 'negative_votes',\n",
       "       'positive_votes', 'cluster'],\n",
       "      dtype='object')"
      ]
     },
     "metadata": {},
     "execution_count": 3
    }
   ],
   "source": [
    "df_match.columns"
   ]
  },
  {
   "source": [],
   "cell_type": "markdown",
   "metadata": {}
  },
  {
   "cell_type": "code",
   "execution_count": 4,
   "metadata": {},
   "outputs": [
    {
     "output_type": "execute_result",
     "data": {
      "text/plain": [
       "   match_id  times  gold_t_0  lh_t_0  xp_t_0  gold_t_1  lh_t_1  xp_t_1  \\\n",
       "0         0      0         0       0       0         0       0       0   \n",
       "1         0     60       409       0      63       142       1     186   \n",
       "2         0    120       546       0     283       622       4     645   \n",
       "3         0    180       683       1     314       927       9    1202   \n",
       "4         0    240       956       1     485      1264      11    1583   \n",
       "\n",
       "   gold_t_2  lh_t_2  ...  xp_t_129  gold_t_130  lh_t_130  xp_t_130  \\\n",
       "0         0       0  ...         0           0         0         0   \n",
       "1       168       0  ...        62         345         6       351   \n",
       "2       330       0  ...       543         684        12       805   \n",
       "3       430       0  ...       842         958        16      1135   \n",
       "4       530       0  ...      1048        1500        26      1842   \n",
       "\n",
       "   gold_t_131  lh_t_131  xp_t_131  gold_t_132  lh_t_132  xp_t_132  \n",
       "0           0         0         0           0         0         0  \n",
       "1         100         0        77         613         1       125  \n",
       "2         200         0       210         815         5       323  \n",
       "3         300         0       210        1290         8       527  \n",
       "4         400         0       210        1431         9       589  \n",
       "\n",
       "[5 rows x 32 columns]"
      ],
      "text/html": "<div>\n<style scoped>\n    .dataframe tbody tr th:only-of-type {\n        vertical-align: middle;\n    }\n\n    .dataframe tbody tr th {\n        vertical-align: top;\n    }\n\n    .dataframe thead th {\n        text-align: right;\n    }\n</style>\n<table border=\"1\" class=\"dataframe\">\n  <thead>\n    <tr style=\"text-align: right;\">\n      <th></th>\n      <th>match_id</th>\n      <th>times</th>\n      <th>gold_t_0</th>\n      <th>lh_t_0</th>\n      <th>xp_t_0</th>\n      <th>gold_t_1</th>\n      <th>lh_t_1</th>\n      <th>xp_t_1</th>\n      <th>gold_t_2</th>\n      <th>lh_t_2</th>\n      <th>...</th>\n      <th>xp_t_129</th>\n      <th>gold_t_130</th>\n      <th>lh_t_130</th>\n      <th>xp_t_130</th>\n      <th>gold_t_131</th>\n      <th>lh_t_131</th>\n      <th>xp_t_131</th>\n      <th>gold_t_132</th>\n      <th>lh_t_132</th>\n      <th>xp_t_132</th>\n    </tr>\n  </thead>\n  <tbody>\n    <tr>\n      <th>0</th>\n      <td>0</td>\n      <td>0</td>\n      <td>0</td>\n      <td>0</td>\n      <td>0</td>\n      <td>0</td>\n      <td>0</td>\n      <td>0</td>\n      <td>0</td>\n      <td>0</td>\n      <td>...</td>\n      <td>0</td>\n      <td>0</td>\n      <td>0</td>\n      <td>0</td>\n      <td>0</td>\n      <td>0</td>\n      <td>0</td>\n      <td>0</td>\n      <td>0</td>\n      <td>0</td>\n    </tr>\n    <tr>\n      <th>1</th>\n      <td>0</td>\n      <td>60</td>\n      <td>409</td>\n      <td>0</td>\n      <td>63</td>\n      <td>142</td>\n      <td>1</td>\n      <td>186</td>\n      <td>168</td>\n      <td>0</td>\n      <td>...</td>\n      <td>62</td>\n      <td>345</td>\n      <td>6</td>\n      <td>351</td>\n      <td>100</td>\n      <td>0</td>\n      <td>77</td>\n      <td>613</td>\n      <td>1</td>\n      <td>125</td>\n    </tr>\n    <tr>\n      <th>2</th>\n      <td>0</td>\n      <td>120</td>\n      <td>546</td>\n      <td>0</td>\n      <td>283</td>\n      <td>622</td>\n      <td>4</td>\n      <td>645</td>\n      <td>330</td>\n      <td>0</td>\n      <td>...</td>\n      <td>543</td>\n      <td>684</td>\n      <td>12</td>\n      <td>805</td>\n      <td>200</td>\n      <td>0</td>\n      <td>210</td>\n      <td>815</td>\n      <td>5</td>\n      <td>323</td>\n    </tr>\n    <tr>\n      <th>3</th>\n      <td>0</td>\n      <td>180</td>\n      <td>683</td>\n      <td>1</td>\n      <td>314</td>\n      <td>927</td>\n      <td>9</td>\n      <td>1202</td>\n      <td>430</td>\n      <td>0</td>\n      <td>...</td>\n      <td>842</td>\n      <td>958</td>\n      <td>16</td>\n      <td>1135</td>\n      <td>300</td>\n      <td>0</td>\n      <td>210</td>\n      <td>1290</td>\n      <td>8</td>\n      <td>527</td>\n    </tr>\n    <tr>\n      <th>4</th>\n      <td>0</td>\n      <td>240</td>\n      <td>956</td>\n      <td>1</td>\n      <td>485</td>\n      <td>1264</td>\n      <td>11</td>\n      <td>1583</td>\n      <td>530</td>\n      <td>0</td>\n      <td>...</td>\n      <td>1048</td>\n      <td>1500</td>\n      <td>26</td>\n      <td>1842</td>\n      <td>400</td>\n      <td>0</td>\n      <td>210</td>\n      <td>1431</td>\n      <td>9</td>\n      <td>589</td>\n    </tr>\n  </tbody>\n</table>\n<p>5 rows × 32 columns</p>\n</div>"
     },
     "metadata": {},
     "execution_count": 4
    }
   ],
   "source": [
    "df_player_time.head()"
   ]
  },
  {
   "cell_type": "code",
   "execution_count": 5,
   "metadata": {},
   "outputs": [
    {
     "output_type": "execute_result",
     "data": {
      "text/plain": [
       "Index(['match_id', 'times', 'gold_t_0', 'lh_t_0', 'xp_t_0', 'gold_t_1',\n",
       "       'lh_t_1', 'xp_t_1', 'gold_t_2', 'lh_t_2', 'xp_t_2', 'gold_t_3',\n",
       "       'lh_t_3', 'xp_t_3', 'gold_t_4', 'lh_t_4', 'xp_t_4', 'gold_t_128',\n",
       "       'lh_t_128', 'xp_t_128', 'gold_t_129', 'lh_t_129', 'xp_t_129',\n",
       "       'gold_t_130', 'lh_t_130', 'xp_t_130', 'gold_t_131', 'lh_t_131',\n",
       "       'xp_t_131', 'gold_t_132', 'lh_t_132', 'xp_t_132'],\n",
       "      dtype='object')"
      ]
     },
     "metadata": {},
     "execution_count": 5
    }
   ],
   "source": [
    "df_player_time.columns"
   ]
  },
  {
   "cell_type": "code",
   "execution_count": 6,
   "metadata": {},
   "outputs": [
    {
     "output_type": "execute_result",
     "data": {
      "text/plain": [
       "900"
      ]
     },
     "metadata": {},
     "execution_count": 6
    }
   ],
   "source": [
    "60*15"
   ]
  },
  {
   "cell_type": "code",
   "execution_count": 7,
   "metadata": {},
   "outputs": [],
   "source": [
    "# Make sure game_mode is all pick ranked only. \n",
    "df_match = df_match.loc[df_match['game_mode']==22]\n",
    "\n",
    "# remove redundnt features\n",
    "\n",
    "df_match = df_match.drop(['negative_votes','positive_votes','cluster'], axis=1)\n",
    "\n",
    "# Remove instances of match time = 0 \n",
    "df_player_time = df_player_time[df_player_time['times']!=0]"
   ]
  },
  {
   "cell_type": "code",
   "execution_count": 8,
   "metadata": {},
   "outputs": [],
   "source": [
    "# aggregate variable data inputs\n",
    "def create_feature(cols_list, name):\n",
    "    df_player_time[name] = df_player_time[cols_list].sum(axis=1)\n",
    "\n",
    "    # sum of radiant gold\n",
    "cols_to_sum = ['gold_t_0', 'gold_t_1', 'gold_t_2', 'gold_t_3', 'gold_t_4']\n",
    "create_feature(cols_to_sum, 'radiant_gold')\n",
    "\n",
    "    # sum of radiant last hits\n",
    "cols_to_sum = ['lh_t_0', 'lh_t_1', 'lh_t_2', 'lh_t_3', 'lh_t_4']\n",
    "create_feature(cols_to_sum, 'radiant_lh')\n",
    "    # sum of radiant xp\n",
    "cols_to_sum = ['xp_t_0', 'xp_t_1', 'xp_t_2', 'xp_t_3', 'xp_t_4']\n",
    "create_feature(cols_to_sum, 'radiant_xp')\n",
    "##\n",
    "##\n",
    "    # sum of dire gold\n",
    "cols_to_sum = ['gold_t_128', 'gold_t_129', 'gold_t_130', 'gold_t_131', 'gold_t_132']\n",
    "create_feature(cols_to_sum, 'dire_gold')\n",
    "\n",
    "    # sum of dire last hits\n",
    "cols_to_sum = ['lh_t_128', 'lh_t_129', 'lh_t_130', 'lh_t_131', 'lh_t_132']\n",
    "create_feature(cols_to_sum, 'dire_lh')\n",
    "\n",
    "    # sum of dire xp\n",
    "cols_to_sum = ['xp_t_128', 'xp_t_129', 'xp_t_130', 'xp_t_131', 'xp_t_132']\n",
    "create_feature(cols_to_sum, 'dire_xp')"
   ]
  },
  {
   "cell_type": "code",
   "execution_count": 9,
   "metadata": {},
   "outputs": [
    {
     "output_type": "execute_result",
     "data": {
      "text/plain": [
       "   match_id  times  gold_t_0  lh_t_0  xp_t_0  gold_t_1  lh_t_1  xp_t_1  \\\n",
       "1         0     60       409       0      63       142       1     186   \n",
       "2         0    120       546       0     283       622       4     645   \n",
       "3         0    180       683       1     314       927       9    1202   \n",
       "4         0    240       956       1     485      1264      11    1583   \n",
       "5         0    300      1056       1     649      1451      13    1810   \n",
       "\n",
       "   gold_t_2  lh_t_2  ...  xp_t_131  gold_t_132  lh_t_132  xp_t_132  \\\n",
       "1       168       0  ...        77         613         1       125   \n",
       "2       330       0  ...       210         815         5       323   \n",
       "3       430       0  ...       210        1290         8       527   \n",
       "4       530       0  ...       210        1431         9       589   \n",
       "5       630       0  ...       241        2110        17       918   \n",
       "\n",
       "   radiant_gold  radiant_lh  radiant_xp  dire_gold  dire_lh  dire_xp  \n",
       "1          1113           2         692       1370       10      692  \n",
       "2          2471          10        2376       2726       26     2318  \n",
       "3          3490          23        3634       4057       40     3543  \n",
       "4          4950          33        5285       5500       53     5007  \n",
       "5          5947          46        6484       6984       71     6574  \n",
       "\n",
       "[5 rows x 38 columns]"
      ],
      "text/html": "<div>\n<style scoped>\n    .dataframe tbody tr th:only-of-type {\n        vertical-align: middle;\n    }\n\n    .dataframe tbody tr th {\n        vertical-align: top;\n    }\n\n    .dataframe thead th {\n        text-align: right;\n    }\n</style>\n<table border=\"1\" class=\"dataframe\">\n  <thead>\n    <tr style=\"text-align: right;\">\n      <th></th>\n      <th>match_id</th>\n      <th>times</th>\n      <th>gold_t_0</th>\n      <th>lh_t_0</th>\n      <th>xp_t_0</th>\n      <th>gold_t_1</th>\n      <th>lh_t_1</th>\n      <th>xp_t_1</th>\n      <th>gold_t_2</th>\n      <th>lh_t_2</th>\n      <th>...</th>\n      <th>xp_t_131</th>\n      <th>gold_t_132</th>\n      <th>lh_t_132</th>\n      <th>xp_t_132</th>\n      <th>radiant_gold</th>\n      <th>radiant_lh</th>\n      <th>radiant_xp</th>\n      <th>dire_gold</th>\n      <th>dire_lh</th>\n      <th>dire_xp</th>\n    </tr>\n  </thead>\n  <tbody>\n    <tr>\n      <th>1</th>\n      <td>0</td>\n      <td>60</td>\n      <td>409</td>\n      <td>0</td>\n      <td>63</td>\n      <td>142</td>\n      <td>1</td>\n      <td>186</td>\n      <td>168</td>\n      <td>0</td>\n      <td>...</td>\n      <td>77</td>\n      <td>613</td>\n      <td>1</td>\n      <td>125</td>\n      <td>1113</td>\n      <td>2</td>\n      <td>692</td>\n      <td>1370</td>\n      <td>10</td>\n      <td>692</td>\n    </tr>\n    <tr>\n      <th>2</th>\n      <td>0</td>\n      <td>120</td>\n      <td>546</td>\n      <td>0</td>\n      <td>283</td>\n      <td>622</td>\n      <td>4</td>\n      <td>645</td>\n      <td>330</td>\n      <td>0</td>\n      <td>...</td>\n      <td>210</td>\n      <td>815</td>\n      <td>5</td>\n      <td>323</td>\n      <td>2471</td>\n      <td>10</td>\n      <td>2376</td>\n      <td>2726</td>\n      <td>26</td>\n      <td>2318</td>\n    </tr>\n    <tr>\n      <th>3</th>\n      <td>0</td>\n      <td>180</td>\n      <td>683</td>\n      <td>1</td>\n      <td>314</td>\n      <td>927</td>\n      <td>9</td>\n      <td>1202</td>\n      <td>430</td>\n      <td>0</td>\n      <td>...</td>\n      <td>210</td>\n      <td>1290</td>\n      <td>8</td>\n      <td>527</td>\n      <td>3490</td>\n      <td>23</td>\n      <td>3634</td>\n      <td>4057</td>\n      <td>40</td>\n      <td>3543</td>\n    </tr>\n    <tr>\n      <th>4</th>\n      <td>0</td>\n      <td>240</td>\n      <td>956</td>\n      <td>1</td>\n      <td>485</td>\n      <td>1264</td>\n      <td>11</td>\n      <td>1583</td>\n      <td>530</td>\n      <td>0</td>\n      <td>...</td>\n      <td>210</td>\n      <td>1431</td>\n      <td>9</td>\n      <td>589</td>\n      <td>4950</td>\n      <td>33</td>\n      <td>5285</td>\n      <td>5500</td>\n      <td>53</td>\n      <td>5007</td>\n    </tr>\n    <tr>\n      <th>5</th>\n      <td>0</td>\n      <td>300</td>\n      <td>1056</td>\n      <td>1</td>\n      <td>649</td>\n      <td>1451</td>\n      <td>13</td>\n      <td>1810</td>\n      <td>630</td>\n      <td>0</td>\n      <td>...</td>\n      <td>241</td>\n      <td>2110</td>\n      <td>17</td>\n      <td>918</td>\n      <td>5947</td>\n      <td>46</td>\n      <td>6484</td>\n      <td>6984</td>\n      <td>71</td>\n      <td>6574</td>\n    </tr>\n  </tbody>\n</table>\n<p>5 rows × 38 columns</p>\n</div>"
     },
     "metadata": {},
     "execution_count": 9
    }
   ],
   "source": [
    "df_player_time.head()"
   ]
  },
  {
   "cell_type": "code",
   "execution_count": 10,
   "metadata": {},
   "outputs": [],
   "source": [
    "# Calculate team advantages\n",
    "\n",
    "    # radiant_adv networth\n",
    "df_player_time['radiant_adv_nw'] = df_player_time.apply(lambda x: x['radiant_gold'] - x['dire_gold'], axis=1)\n",
    "\n",
    "    # radiant_adv xp\n",
    "df_player_time['radiant_adv_xp'] = df_player_time.apply(lambda x: x['radiant_xp'] - x['dire_xp'], axis=1)\n",
    "\n",
    "    # radiant_adv lasthits \n",
    "df_player_time['radiant_adv_lh'] = df_player_time.apply(lambda x: x['radiant_lh'] - x['dire_lh'], axis=1)\n",
    "\n",
    "    # dire_adv networth\n",
    "df_player_time['dire_adv_nw'] = df_player_time.apply(lambda x: x['dire_gold'] - x['radiant_gold'], axis=1)\n",
    "\n",
    "    # dire_adv xp\n",
    "df_player_time['dire_adv_xp'] = df_player_time.apply(lambda x: x['dire_xp'] - x['radiant_gold'], axis=1)\n",
    "\n",
    "    # dire_adv lasthits \n",
    "df_player_time['dire_adv_lh'] = df_player_time.apply(lambda x: x['dire_lh'] - x['radiant_lh'], axis=1)"
   ]
  },
  {
   "cell_type": "code",
   "execution_count": 11,
   "metadata": {},
   "outputs": [
    {
     "output_type": "execute_result",
     "data": {
      "text/plain": [
       "   match_id  times  gold_t_0  lh_t_0  xp_t_0  gold_t_1  lh_t_1  xp_t_1  \\\n",
       "1         0     60       409       0      63       142       1     186   \n",
       "2         0    120       546       0     283       622       4     645   \n",
       "3         0    180       683       1     314       927       9    1202   \n",
       "4         0    240       956       1     485      1264      11    1583   \n",
       "5         0    300      1056       1     649      1451      13    1810   \n",
       "\n",
       "   gold_t_2  lh_t_2  ...  radiant_xp  dire_gold  dire_lh  dire_xp  \\\n",
       "1       168       0  ...         692       1370       10      692   \n",
       "2       330       0  ...        2376       2726       26     2318   \n",
       "3       430       0  ...        3634       4057       40     3543   \n",
       "4       530       0  ...        5285       5500       53     5007   \n",
       "5       630       0  ...        6484       6984       71     6574   \n",
       "\n",
       "   radiant_adv_nw  radiant_adv_xp  radiant_adv_lh  dire_adv_nw  dire_adv_xp  \\\n",
       "1            -257               0              -8          257         -421   \n",
       "2            -255              58             -16          255         -153   \n",
       "3            -567              91             -17          567           53   \n",
       "4            -550             278             -20          550           57   \n",
       "5           -1037             -90             -25         1037          627   \n",
       "\n",
       "   dire_adv_lh  \n",
       "1            8  \n",
       "2           16  \n",
       "3           17  \n",
       "4           20  \n",
       "5           25  \n",
       "\n",
       "[5 rows x 44 columns]"
      ],
      "text/html": "<div>\n<style scoped>\n    .dataframe tbody tr th:only-of-type {\n        vertical-align: middle;\n    }\n\n    .dataframe tbody tr th {\n        vertical-align: top;\n    }\n\n    .dataframe thead th {\n        text-align: right;\n    }\n</style>\n<table border=\"1\" class=\"dataframe\">\n  <thead>\n    <tr style=\"text-align: right;\">\n      <th></th>\n      <th>match_id</th>\n      <th>times</th>\n      <th>gold_t_0</th>\n      <th>lh_t_0</th>\n      <th>xp_t_0</th>\n      <th>gold_t_1</th>\n      <th>lh_t_1</th>\n      <th>xp_t_1</th>\n      <th>gold_t_2</th>\n      <th>lh_t_2</th>\n      <th>...</th>\n      <th>radiant_xp</th>\n      <th>dire_gold</th>\n      <th>dire_lh</th>\n      <th>dire_xp</th>\n      <th>radiant_adv_nw</th>\n      <th>radiant_adv_xp</th>\n      <th>radiant_adv_lh</th>\n      <th>dire_adv_nw</th>\n      <th>dire_adv_xp</th>\n      <th>dire_adv_lh</th>\n    </tr>\n  </thead>\n  <tbody>\n    <tr>\n      <th>1</th>\n      <td>0</td>\n      <td>60</td>\n      <td>409</td>\n      <td>0</td>\n      <td>63</td>\n      <td>142</td>\n      <td>1</td>\n      <td>186</td>\n      <td>168</td>\n      <td>0</td>\n      <td>...</td>\n      <td>692</td>\n      <td>1370</td>\n      <td>10</td>\n      <td>692</td>\n      <td>-257</td>\n      <td>0</td>\n      <td>-8</td>\n      <td>257</td>\n      <td>-421</td>\n      <td>8</td>\n    </tr>\n    <tr>\n      <th>2</th>\n      <td>0</td>\n      <td>120</td>\n      <td>546</td>\n      <td>0</td>\n      <td>283</td>\n      <td>622</td>\n      <td>4</td>\n      <td>645</td>\n      <td>330</td>\n      <td>0</td>\n      <td>...</td>\n      <td>2376</td>\n      <td>2726</td>\n      <td>26</td>\n      <td>2318</td>\n      <td>-255</td>\n      <td>58</td>\n      <td>-16</td>\n      <td>255</td>\n      <td>-153</td>\n      <td>16</td>\n    </tr>\n    <tr>\n      <th>3</th>\n      <td>0</td>\n      <td>180</td>\n      <td>683</td>\n      <td>1</td>\n      <td>314</td>\n      <td>927</td>\n      <td>9</td>\n      <td>1202</td>\n      <td>430</td>\n      <td>0</td>\n      <td>...</td>\n      <td>3634</td>\n      <td>4057</td>\n      <td>40</td>\n      <td>3543</td>\n      <td>-567</td>\n      <td>91</td>\n      <td>-17</td>\n      <td>567</td>\n      <td>53</td>\n      <td>17</td>\n    </tr>\n    <tr>\n      <th>4</th>\n      <td>0</td>\n      <td>240</td>\n      <td>956</td>\n      <td>1</td>\n      <td>485</td>\n      <td>1264</td>\n      <td>11</td>\n      <td>1583</td>\n      <td>530</td>\n      <td>0</td>\n      <td>...</td>\n      <td>5285</td>\n      <td>5500</td>\n      <td>53</td>\n      <td>5007</td>\n      <td>-550</td>\n      <td>278</td>\n      <td>-20</td>\n      <td>550</td>\n      <td>57</td>\n      <td>20</td>\n    </tr>\n    <tr>\n      <th>5</th>\n      <td>0</td>\n      <td>300</td>\n      <td>1056</td>\n      <td>1</td>\n      <td>649</td>\n      <td>1451</td>\n      <td>13</td>\n      <td>1810</td>\n      <td>630</td>\n      <td>0</td>\n      <td>...</td>\n      <td>6484</td>\n      <td>6984</td>\n      <td>71</td>\n      <td>6574</td>\n      <td>-1037</td>\n      <td>-90</td>\n      <td>-25</td>\n      <td>1037</td>\n      <td>627</td>\n      <td>25</td>\n    </tr>\n  </tbody>\n</table>\n<p>5 rows × 44 columns</p>\n</div>"
     },
     "metadata": {},
     "execution_count": 11
    }
   ],
   "source": [
    "df_player_time.head()"
   ]
  },
  {
   "cell_type": "code",
   "execution_count": 12,
   "metadata": {},
   "outputs": [
    {
     "output_type": "execute_result",
     "data": {
      "text/plain": [
       "     match_id  times  gold_t_0  lh_t_0  xp_t_0  gold_t_1  lh_t_1  xp_t_1  \\\n",
       "14          0    900      3324       5    2914      5444      64    6117   \n",
       "56          1    900      3184      16    3307      7849     110    8835   \n",
       "101         2    900      3748      27    3855      4542      42    5571   \n",
       "148         3    900      3687      10    4310      5598      49    4127   \n",
       "201         4    900      7099     112    6938      7001      64    6732   \n",
       "\n",
       "     gold_t_2  lh_t_2  ...  dire_adv_lh  start_time  duration  \\\n",
       "14       2869      10  ...           39  1446750112      2375   \n",
       "56       4041      15  ...           -9  1446753078      2582   \n",
       "101      5438      37  ...          -36  1446764586      2716   \n",
       "148      3915      26  ...            7  1446765723      3085   \n",
       "201      3973      50  ...         -150  1446796385      1887   \n",
       "\n",
       "     tower_status_radiant  tower_status_dire  barracks_status_dire  \\\n",
       "14                   1982                  4                     3   \n",
       "56                      0               1846                    63   \n",
       "101                   256               1972                    63   \n",
       "148                     4               1924                    51   \n",
       "201                  2047                  0                     0   \n",
       "\n",
       "     barracks_status_radiant  first_blood_time  game_mode  radiant_win  \n",
       "14                        63                 1         22         True  \n",
       "56                         0               221         22        False  \n",
       "101                       48               190         22        False  \n",
       "148                        3                40         22        False  \n",
       "201                       63                58         22         True  \n",
       "\n",
       "[5 rows x 53 columns]"
      ],
      "text/html": "<div>\n<style scoped>\n    .dataframe tbody tr th:only-of-type {\n        vertical-align: middle;\n    }\n\n    .dataframe tbody tr th {\n        vertical-align: top;\n    }\n\n    .dataframe thead th {\n        text-align: right;\n    }\n</style>\n<table border=\"1\" class=\"dataframe\">\n  <thead>\n    <tr style=\"text-align: right;\">\n      <th></th>\n      <th>match_id</th>\n      <th>times</th>\n      <th>gold_t_0</th>\n      <th>lh_t_0</th>\n      <th>xp_t_0</th>\n      <th>gold_t_1</th>\n      <th>lh_t_1</th>\n      <th>xp_t_1</th>\n      <th>gold_t_2</th>\n      <th>lh_t_2</th>\n      <th>...</th>\n      <th>dire_adv_lh</th>\n      <th>start_time</th>\n      <th>duration</th>\n      <th>tower_status_radiant</th>\n      <th>tower_status_dire</th>\n      <th>barracks_status_dire</th>\n      <th>barracks_status_radiant</th>\n      <th>first_blood_time</th>\n      <th>game_mode</th>\n      <th>radiant_win</th>\n    </tr>\n  </thead>\n  <tbody>\n    <tr>\n      <th>14</th>\n      <td>0</td>\n      <td>900</td>\n      <td>3324</td>\n      <td>5</td>\n      <td>2914</td>\n      <td>5444</td>\n      <td>64</td>\n      <td>6117</td>\n      <td>2869</td>\n      <td>10</td>\n      <td>...</td>\n      <td>39</td>\n      <td>1446750112</td>\n      <td>2375</td>\n      <td>1982</td>\n      <td>4</td>\n      <td>3</td>\n      <td>63</td>\n      <td>1</td>\n      <td>22</td>\n      <td>True</td>\n    </tr>\n    <tr>\n      <th>56</th>\n      <td>1</td>\n      <td>900</td>\n      <td>3184</td>\n      <td>16</td>\n      <td>3307</td>\n      <td>7849</td>\n      <td>110</td>\n      <td>8835</td>\n      <td>4041</td>\n      <td>15</td>\n      <td>...</td>\n      <td>-9</td>\n      <td>1446753078</td>\n      <td>2582</td>\n      <td>0</td>\n      <td>1846</td>\n      <td>63</td>\n      <td>0</td>\n      <td>221</td>\n      <td>22</td>\n      <td>False</td>\n    </tr>\n    <tr>\n      <th>101</th>\n      <td>2</td>\n      <td>900</td>\n      <td>3748</td>\n      <td>27</td>\n      <td>3855</td>\n      <td>4542</td>\n      <td>42</td>\n      <td>5571</td>\n      <td>5438</td>\n      <td>37</td>\n      <td>...</td>\n      <td>-36</td>\n      <td>1446764586</td>\n      <td>2716</td>\n      <td>256</td>\n      <td>1972</td>\n      <td>63</td>\n      <td>48</td>\n      <td>190</td>\n      <td>22</td>\n      <td>False</td>\n    </tr>\n    <tr>\n      <th>148</th>\n      <td>3</td>\n      <td>900</td>\n      <td>3687</td>\n      <td>10</td>\n      <td>4310</td>\n      <td>5598</td>\n      <td>49</td>\n      <td>4127</td>\n      <td>3915</td>\n      <td>26</td>\n      <td>...</td>\n      <td>7</td>\n      <td>1446765723</td>\n      <td>3085</td>\n      <td>4</td>\n      <td>1924</td>\n      <td>51</td>\n      <td>3</td>\n      <td>40</td>\n      <td>22</td>\n      <td>False</td>\n    </tr>\n    <tr>\n      <th>201</th>\n      <td>4</td>\n      <td>900</td>\n      <td>7099</td>\n      <td>112</td>\n      <td>6938</td>\n      <td>7001</td>\n      <td>64</td>\n      <td>6732</td>\n      <td>3973</td>\n      <td>50</td>\n      <td>...</td>\n      <td>-150</td>\n      <td>1446796385</td>\n      <td>1887</td>\n      <td>2047</td>\n      <td>0</td>\n      <td>0</td>\n      <td>63</td>\n      <td>58</td>\n      <td>22</td>\n      <td>True</td>\n    </tr>\n  </tbody>\n</table>\n<p>5 rows × 53 columns</p>\n</div>"
     },
     "metadata": {},
     "execution_count": 12
    }
   ],
   "source": [
    "# Merge match results with match flow\n",
    "final_df = pd.merge(df_player_time, df_match, left_on='match_id', right_on='match_id')\n",
    "\n",
    "#Get match status @15minutes to predict Win%\n",
    "final_df = final_df.loc[final_df.times==900]\n",
    "\n",
    "final_df.head()"
   ]
  },
  {
   "cell_type": "code",
   "execution_count": 13,
   "metadata": {},
   "outputs": [],
   "source": [
    "final_df = final_df.drop_duplicates()"
   ]
  },
  {
   "cell_type": "code",
   "execution_count": 14,
   "metadata": {},
   "outputs": [
    {
     "output_type": "execute_result",
     "data": {
      "text/plain": [
       "Index(['match_id', 'times', 'gold_t_0', 'lh_t_0', 'xp_t_0', 'gold_t_1',\n",
       "       'lh_t_1', 'xp_t_1', 'gold_t_2', 'lh_t_2', 'xp_t_2', 'gold_t_3',\n",
       "       'lh_t_3', 'xp_t_3', 'gold_t_4', 'lh_t_4', 'xp_t_4', 'gold_t_128',\n",
       "       'lh_t_128', 'xp_t_128', 'gold_t_129', 'lh_t_129', 'xp_t_129',\n",
       "       'gold_t_130', 'lh_t_130', 'xp_t_130', 'gold_t_131', 'lh_t_131',\n",
       "       'xp_t_131', 'gold_t_132', 'lh_t_132', 'xp_t_132', 'radiant_gold',\n",
       "       'radiant_lh', 'radiant_xp', 'dire_gold', 'dire_lh', 'dire_xp',\n",
       "       'radiant_adv_nw', 'radiant_adv_xp', 'radiant_adv_lh', 'dire_adv_nw',\n",
       "       'dire_adv_xp', 'dire_adv_lh', 'start_time', 'duration',\n",
       "       'tower_status_radiant', 'tower_status_dire', 'barracks_status_dire',\n",
       "       'barracks_status_radiant', 'first_blood_time', 'game_mode',\n",
       "       'radiant_win'],\n",
       "      dtype='object')"
      ]
     },
     "metadata": {},
     "execution_count": 14
    }
   ],
   "source": [
    "final_df.columns"
   ]
  },
  {
   "cell_type": "code",
   "execution_count": 15,
   "metadata": {},
   "outputs": [
    {
     "output_type": "execute_result",
     "data": {
      "text/plain": [
       "     match_id  radiant_adv_nw  radiant_adv_xp  radiant_adv_lh  radiant_win\n",
       "14          0             707            1238             -39         True\n",
       "56          1            -193           -1224               9        False\n",
       "101         2            1035            1470              36        False\n",
       "148         3            2464            2822              -7        False\n",
       "201         4            6967            5261             150         True"
      ],
      "text/html": "<div>\n<style scoped>\n    .dataframe tbody tr th:only-of-type {\n        vertical-align: middle;\n    }\n\n    .dataframe tbody tr th {\n        vertical-align: top;\n    }\n\n    .dataframe thead th {\n        text-align: right;\n    }\n</style>\n<table border=\"1\" class=\"dataframe\">\n  <thead>\n    <tr style=\"text-align: right;\">\n      <th></th>\n      <th>match_id</th>\n      <th>radiant_adv_nw</th>\n      <th>radiant_adv_xp</th>\n      <th>radiant_adv_lh</th>\n      <th>radiant_win</th>\n    </tr>\n  </thead>\n  <tbody>\n    <tr>\n      <th>14</th>\n      <td>0</td>\n      <td>707</td>\n      <td>1238</td>\n      <td>-39</td>\n      <td>True</td>\n    </tr>\n    <tr>\n      <th>56</th>\n      <td>1</td>\n      <td>-193</td>\n      <td>-1224</td>\n      <td>9</td>\n      <td>False</td>\n    </tr>\n    <tr>\n      <th>101</th>\n      <td>2</td>\n      <td>1035</td>\n      <td>1470</td>\n      <td>36</td>\n      <td>False</td>\n    </tr>\n    <tr>\n      <th>148</th>\n      <td>3</td>\n      <td>2464</td>\n      <td>2822</td>\n      <td>-7</td>\n      <td>False</td>\n    </tr>\n    <tr>\n      <th>201</th>\n      <td>4</td>\n      <td>6967</td>\n      <td>5261</td>\n      <td>150</td>\n      <td>True</td>\n    </tr>\n  </tbody>\n</table>\n</div>"
     },
     "metadata": {},
     "execution_count": 15
    }
   ],
   "source": [
    "# add dire_win\n",
    "final_df['dire_win'] = final_df['radiant_win'].map({'True': 'False', 'False': 'True'})\n",
    "\n",
    "# Use advantages as features\n",
    "final_df = final_df.filter(['match_id','radiant_adv_nw', 'radiant_adv_xp', 'radiant_adv_lh','radiant_win'])\n",
    "final_df.head()"
   ]
  },
  {
   "cell_type": "code",
   "execution_count": 16,
   "metadata": {},
   "outputs": [
    {
     "output_type": "execute_result",
     "data": {
      "text/plain": [
       "          radiant_adv_nw  radiant_adv_xp  radiant_adv_lh  radiant_win\n",
       "match_id                                                             \n",
       "0                    707            1238             -39         True\n",
       "1                   -193           -1224               9        False\n",
       "2                   1035            1470              36        False\n",
       "3                   2464            2822              -7        False\n",
       "4                   6967            5261             150         True"
      ],
      "text/html": "<div>\n<style scoped>\n    .dataframe tbody tr th:only-of-type {\n        vertical-align: middle;\n    }\n\n    .dataframe tbody tr th {\n        vertical-align: top;\n    }\n\n    .dataframe thead th {\n        text-align: right;\n    }\n</style>\n<table border=\"1\" class=\"dataframe\">\n  <thead>\n    <tr style=\"text-align: right;\">\n      <th></th>\n      <th>radiant_adv_nw</th>\n      <th>radiant_adv_xp</th>\n      <th>radiant_adv_lh</th>\n      <th>radiant_win</th>\n    </tr>\n    <tr>\n      <th>match_id</th>\n      <th></th>\n      <th></th>\n      <th></th>\n      <th></th>\n    </tr>\n  </thead>\n  <tbody>\n    <tr>\n      <th>0</th>\n      <td>707</td>\n      <td>1238</td>\n      <td>-39</td>\n      <td>True</td>\n    </tr>\n    <tr>\n      <th>1</th>\n      <td>-193</td>\n      <td>-1224</td>\n      <td>9</td>\n      <td>False</td>\n    </tr>\n    <tr>\n      <th>2</th>\n      <td>1035</td>\n      <td>1470</td>\n      <td>36</td>\n      <td>False</td>\n    </tr>\n    <tr>\n      <th>3</th>\n      <td>2464</td>\n      <td>2822</td>\n      <td>-7</td>\n      <td>False</td>\n    </tr>\n    <tr>\n      <th>4</th>\n      <td>6967</td>\n      <td>5261</td>\n      <td>150</td>\n      <td>True</td>\n    </tr>\n  </tbody>\n</table>\n</div>"
     },
     "metadata": {},
     "execution_count": 16
    }
   ],
   "source": [
    "final_df = final_df.drop_duplicates().set_index('match_id')\n",
    "final_df.head()"
   ]
  },
  {
   "cell_type": "code",
   "execution_count": 17,
   "metadata": {},
   "outputs": [],
   "source": [
    "final_df.to_csv('data.csv')"
   ]
  },
  {
   "cell_type": "code",
   "execution_count": null,
   "metadata": {},
   "outputs": [],
   "source": []
  }
 ]
}